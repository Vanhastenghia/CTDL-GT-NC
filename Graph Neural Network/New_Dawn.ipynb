{
  "nbformat": 4,
  "nbformat_minor": 0,
  "metadata": {
    "colab": {
      "name": "New_Dawn.ipynb",
      "provenance": [],
      "collapsed_sections": []
    },
    "kernelspec": {
      "name": "python3",
      "display_name": "Python 3"
    },
    "language_info": {
      "name": "python"
    }
  },
  "cells": [
    {
      "cell_type": "code",
      "source": [
        "import torch\n",
        "\n",
        "def format_pytorch_version(version):\n",
        "  return version.split('+')[0]\n",
        "\n",
        "TORCH_version = torch.__version__\n",
        "TORCH = format_pytorch_version(TORCH_version)\n",
        "\n",
        "def format_cuda_version(version):\n",
        "  return 'cu' + version.replace('.', '')\n",
        "\n",
        "CUDA_version = torch.version.cuda\n",
        "CUDA = format_cuda_version(CUDA_version)\n",
        "\n",
        "!pip install torch-scatter     -f https://pytorch-geometric.com/whl/torch-{TORCH}+{CUDA}.html\n",
        "!pip install torch-sparse      -f https://pytorch-geometric.com/whl/torch-{TORCH}+{CUDA}.html\n",
        "!pip install torch-cluster     -f https://pytorch-geometric.com/whl/torch-{TORCH}+{CUDA}.html\n",
        "!pip install torch-spline-conv -f https://pytorch-geometric.com/whl/torch-{TORCH}+{CUDA}.html\n",
        "!pip install torch-geometric \n",
        "!pip install dgl"
      ],
      "metadata": {
        "colab": {
          "base_uri": "https://localhost:8080/"
        },
        "id": "c7cog3nioPis",
        "outputId": "77b63c51-c61a-456f-bebc-732a4e3356c6"
      },
      "execution_count": 13,
      "outputs": [
        {
          "output_type": "stream",
          "name": "stdout",
          "text": [
            "Looking in links: https://pytorch-geometric.com/whl/torch-1.10.0+cu111.html\n",
            "Requirement already satisfied: torch-scatter in /usr/local/lib/python3.7/dist-packages (2.0.9)\n",
            "Looking in links: https://pytorch-geometric.com/whl/torch-1.10.0+cu111.html\n",
            "Requirement already satisfied: torch-sparse in /usr/local/lib/python3.7/dist-packages (0.6.13)\n",
            "Requirement already satisfied: scipy in /usr/local/lib/python3.7/dist-packages (from torch-sparse) (1.4.1)\n",
            "Requirement already satisfied: numpy>=1.13.3 in /usr/local/lib/python3.7/dist-packages (from scipy->torch-sparse) (1.21.5)\n",
            "Looking in links: https://pytorch-geometric.com/whl/torch-1.10.0+cu111.html\n",
            "Requirement already satisfied: torch-cluster in /usr/local/lib/python3.7/dist-packages (1.6.0)\n",
            "Looking in links: https://pytorch-geometric.com/whl/torch-1.10.0+cu111.html\n",
            "Requirement already satisfied: torch-spline-conv in /usr/local/lib/python3.7/dist-packages (1.2.1)\n",
            "Requirement already satisfied: torch-geometric in /usr/local/lib/python3.7/dist-packages (2.0.4)\n",
            "Requirement already satisfied: scikit-learn in /usr/local/lib/python3.7/dist-packages (from torch-geometric) (1.0.2)\n",
            "Requirement already satisfied: numpy in /usr/local/lib/python3.7/dist-packages (from torch-geometric) (1.21.5)\n",
            "Requirement already satisfied: requests in /usr/local/lib/python3.7/dist-packages (from torch-geometric) (2.23.0)\n",
            "Requirement already satisfied: pandas in /usr/local/lib/python3.7/dist-packages (from torch-geometric) (1.3.5)\n",
            "Requirement already satisfied: scipy in /usr/local/lib/python3.7/dist-packages (from torch-geometric) (1.4.1)\n",
            "Requirement already satisfied: jinja2 in /usr/local/lib/python3.7/dist-packages (from torch-geometric) (2.11.3)\n",
            "Requirement already satisfied: pyparsing in /usr/local/lib/python3.7/dist-packages (from torch-geometric) (3.0.7)\n",
            "Requirement already satisfied: tqdm in /usr/local/lib/python3.7/dist-packages (from torch-geometric) (4.63.0)\n",
            "Requirement already satisfied: MarkupSafe>=0.23 in /usr/local/lib/python3.7/dist-packages (from jinja2->torch-geometric) (2.0.1)\n",
            "Requirement already satisfied: python-dateutil>=2.7.3 in /usr/local/lib/python3.7/dist-packages (from pandas->torch-geometric) (2.8.2)\n",
            "Requirement already satisfied: pytz>=2017.3 in /usr/local/lib/python3.7/dist-packages (from pandas->torch-geometric) (2018.9)\n",
            "Requirement already satisfied: six>=1.5 in /usr/local/lib/python3.7/dist-packages (from python-dateutil>=2.7.3->pandas->torch-geometric) (1.15.0)\n",
            "Requirement already satisfied: idna<3,>=2.5 in /usr/local/lib/python3.7/dist-packages (from requests->torch-geometric) (2.10)\n",
            "Requirement already satisfied: urllib3!=1.25.0,!=1.25.1,<1.26,>=1.21.1 in /usr/local/lib/python3.7/dist-packages (from requests->torch-geometric) (1.24.3)\n",
            "Requirement already satisfied: chardet<4,>=3.0.2 in /usr/local/lib/python3.7/dist-packages (from requests->torch-geometric) (3.0.4)\n",
            "Requirement already satisfied: certifi>=2017.4.17 in /usr/local/lib/python3.7/dist-packages (from requests->torch-geometric) (2021.10.8)\n",
            "Requirement already satisfied: joblib>=0.11 in /usr/local/lib/python3.7/dist-packages (from scikit-learn->torch-geometric) (1.1.0)\n",
            "Requirement already satisfied: threadpoolctl>=2.0.0 in /usr/local/lib/python3.7/dist-packages (from scikit-learn->torch-geometric) (3.1.0)\n",
            "Collecting dgl\n",
            "  Downloading dgl-0.6.1-cp37-cp37m-manylinux1_x86_64.whl (4.4 MB)\n",
            "\u001b[K     |████████████████████████████████| 4.4 MB 17.1 MB/s \n",
            "\u001b[?25hRequirement already satisfied: networkx>=2.1 in /usr/local/lib/python3.7/dist-packages (from dgl) (2.6.3)\n",
            "Requirement already satisfied: requests>=2.19.0 in /usr/local/lib/python3.7/dist-packages (from dgl) (2.23.0)\n",
            "Requirement already satisfied: numpy>=1.14.0 in /usr/local/lib/python3.7/dist-packages (from dgl) (1.21.5)\n",
            "Requirement already satisfied: scipy>=1.1.0 in /usr/local/lib/python3.7/dist-packages (from dgl) (1.4.1)\n",
            "Requirement already satisfied: certifi>=2017.4.17 in /usr/local/lib/python3.7/dist-packages (from requests>=2.19.0->dgl) (2021.10.8)\n",
            "Requirement already satisfied: chardet<4,>=3.0.2 in /usr/local/lib/python3.7/dist-packages (from requests>=2.19.0->dgl) (3.0.4)\n",
            "Requirement already satisfied: urllib3!=1.25.0,!=1.25.1,<1.26,>=1.21.1 in /usr/local/lib/python3.7/dist-packages (from requests>=2.19.0->dgl) (1.24.3)\n",
            "Requirement already satisfied: idna<3,>=2.5 in /usr/local/lib/python3.7/dist-packages (from requests>=2.19.0->dgl) (2.10)\n",
            "Installing collected packages: dgl\n",
            "Successfully installed dgl-0.6.1\n"
          ]
        }
      ]
    },
    {
      "cell_type": "code",
      "execution_count": 14,
      "metadata": {
        "colab": {
          "base_uri": "https://localhost:8080/"
        },
        "id": "giXmUegonhMb",
        "outputId": "ba9faea4-63aa-418b-b0cb-ff307b5aafb8"
      },
      "outputs": [
        {
          "output_type": "stream",
          "name": "stderr",
          "text": [
            "DGL backend not selected or invalid.  Assuming PyTorch for now.\n",
            "Using backend: pytorch\n"
          ]
        },
        {
          "output_type": "stream",
          "name": "stdout",
          "text": [
            "Setting the default backend to \"pytorch\". You can change it in the ~/.dgl/config.json file or export the DGLBACKEND environment variable.  Valid options are: pytorch, mxnet, tensorflow (all lowercase)\n"
          ]
        }
      ],
      "source": [
        "import matplotlib.pyplot as plt\n",
        "import networkx as nx\n",
        "import torch.nn as nn\n",
        "import numpy as np\n",
        "import itertools   \n",
        "from torch_geometric.utils import to_networkx\n",
        "import torch.nn.functional as F\n",
        "import dgl"
      ]
    },
    {
      "cell_type": "code",
      "source": [
        "def build_karate_club_graph():\n",
        "    # All 78 edges are stored in two numpy arrays. One for source endpoints\n",
        "    # while the other for destination endpoints.\n",
        "    src = np.array([1, 2, 2, 3, 3, 3, 4, 5, 6, 6, 6, 7, 7, 7, 7, 8, 8, 9, 10, 10,\n",
        "        10, 11, 12, 12, 13, 13, 13, 13, 16, 16, 17, 17, 19, 19, 21, 21,\n",
        "        25, 25, 27, 27, 27, 28, 29, 29, 30, 30, 31, 31, 31, 31, 32, 32,\n",
        "        32, 32, 32, 32, 32, 32, 32, 32, 32, 33, 33, 33, 33, 33, 33, 33,\n",
        "        33, 33, 33, 33, 33, 33, 33, 33, 33, 33])\n",
        "    dst = np.array([0, 0, 1, 0, 1, 2, 0, 0, 0, 4, 5, 0, 1, 2, 3, 0, 2, 2, 0, 4,\n",
        "        5, 0, 0, 3, 0, 1, 2, 3, 5, 6, 0, 1, 0, 1, 0, 1, 23, 24, 2, 23,\n",
        "        24, 2, 23, 26, 1, 8, 0, 24, 25, 28, 2, 8, 14, 15, 18, 20, 22, 23,\n",
        "        29, 30, 31, 8, 9, 13, 14, 15, 18, 19, 20, 22, 23, 26, 27, 28, 29, 30,\n",
        "        31, 32])\n",
        "    # Edges are directional in DGL; Make them bi-directional.\n",
        "    u = np.concatenate([src, dst])\n",
        "    v = np.concatenate([dst, src])\n",
        "    # Construct a DGLGraph\n",
        "    return dgl.DGLGraph((u, v))"
      ],
      "metadata": {
        "id": "Gw_61TN1p66V"
      },
      "execution_count": 15,
      "outputs": []
    },
    {
      "cell_type": "code",
      "source": [
        "G = build_karate_club_graph()\n",
        "print('We have %d nodes.' % G.number_of_nodes())\n",
        "print('We have %d edges.' % G.number_of_edges())"
      ],
      "metadata": {
        "colab": {
          "base_uri": "https://localhost:8080/"
        },
        "id": "7TAzckYyqFx7",
        "outputId": "c26ac05e-b392-4d84-ca1f-76f92bf2a490"
      },
      "execution_count": 16,
      "outputs": [
        {
          "output_type": "stream",
          "name": "stdout",
          "text": [
            "We have 34 nodes.\n",
            "We have 156 edges.\n"
          ]
        },
        {
          "output_type": "stream",
          "name": "stderr",
          "text": [
            "/usr/local/lib/python3.7/dist-packages/dgl/base.py:45: DGLWarning: Recommend creating graphs by `dgl.graph(data)` instead of `dgl.DGLGraph(data)`.\n",
            "  return warnings.warn(message, category=category, stacklevel=1)\n"
          ]
        }
      ]
    },
    {
      "cell_type": "code",
      "source": [
        "import networkx as nx\n",
        "# Since the actual graph is undirected, we convert it for visualization\n",
        "# purpose.\n",
        "nx_G = G.to_networkx().to_undirected()\n",
        "# Kamada-Kawaii layout usually looks pretty for arbitrary graphs\n",
        "pos = nx.kamada_kawai_layout(nx_G)\n",
        "nx.draw(nx_G, pos, with_labels=True, node_color=[[.7, .7, .7]])"
      ],
      "metadata": {
        "colab": {
          "base_uri": "https://localhost:8080/",
          "height": 319
        },
        "id": "FbTRgzvVqIQd",
        "outputId": "6b5b0017-d079-47b1-e81c-6a533b72dba8"
      },
      "execution_count": 17,
      "outputs": [
        {
          "output_type": "display_data",
          "data": {
            "text/plain": [
              "<Figure size 432x288 with 1 Axes>"
            ],
            "image/png": "[encoded data removed]"
          },
          "metadata": {}
        }
      ]
    },
    {
      "cell_type": "code",
      "source": [
        "embed = nn.Embedding(34, 5)  # 34 nodes with embedding dim equal to 5\n",
        "G.ndata['feat'] = embed.weight"
      ],
      "metadata": {
        "id": "AXXL8l-gqLDo"
      },
      "execution_count": 18,
      "outputs": []
    },
    {
      "cell_type": "code",
      "source": [
        "# print out node 2's input feature\n",
        "print(G.ndata['feat'][2])\n",
        "\n",
        "# print out node 10 and 11's input features\n",
        "print(G.ndata['feat'][[10, 11]])"
      ],
      "metadata": {
        "colab": {
          "base_uri": "https://localhost:8080/"
        },
        "id": "5eFv_a0NqTJ1",
        "outputId": "9708c5e2-2702-4b7f-9f27-5636b3d2f483"
      },
      "execution_count": 19,
      "outputs": [
        {
          "output_type": "stream",
          "name": "stdout",
          "text": [
            "tensor([ 0.8808,  0.5002, -1.7499, -1.2070,  0.4424],\n",
            "       grad_fn=<SelectBackward0>)\n",
            "tensor([[-0.3355,  1.0465, -1.5728,  2.1921, -0.1890],\n",
            "        [ 0.3015,  0.5150, -0.8521, -1.0565,  1.2880]],\n",
            "       grad_fn=<IndexBackward0>)\n"
          ]
        }
      ]
    },
    {
      "cell_type": "code",
      "source": [
        "from dgl.nn.pytorch import GraphConv"
      ],
      "metadata": {
        "id": "gERKFdPUqVIP"
      },
      "execution_count": 20,
      "outputs": []
    },
    {
      "cell_type": "code",
      "source": [
        "class GCN(nn.Module):\n",
        "    def __init__(self, in_feats, hidden_size, num_classes):\n",
        "        super(GCN, self).__init__()\n",
        "        self.conv1 = GraphConv(in_feats, hidden_size)\n",
        "        self.conv2 = GraphConv(hidden_size, num_classes)\n",
        "\n",
        "    def forward(self, g, inputs):\n",
        "        h = self.conv1(g, inputs)\n",
        "        h = torch.relu(h)\n",
        "        h = self.conv2(g, h)\n",
        "        return h"
      ],
      "metadata": {
        "id": "WjlZumMLqYu0"
      },
      "execution_count": 21,
      "outputs": []
    },
    {
      "cell_type": "code",
      "source": [
        "# The first layer transforms input features of size of 5 to a hidden size of 5.\n",
        "# The second layer transforms the hidden layer and produces output features of\n",
        "# size 2, corresponding to the two groups of the karate club.\n",
        "net = GCN(5, 5, 2)"
      ],
      "metadata": {
        "id": "PTom12UWqboJ"
      },
      "execution_count": 22,
      "outputs": []
    },
    {
      "cell_type": "code",
      "source": [
        "inputs = embed.weight\n",
        "labeled_nodes = torch.tensor([0, 33])  # only the instructor and the president nodes are labeled\n",
        "labels = torch.tensor([0, 1])  # their labels are different"
      ],
      "metadata": {
        "id": "cb3QOwGcqc8Z"
      },
      "execution_count": 23,
      "outputs": []
    },
    {
      "cell_type": "code",
      "source": [
        "import itertools"
      ],
      "metadata": {
        "id": "bZY8oyW9qj6S"
      },
      "execution_count": 24,
      "outputs": []
    },
    {
      "cell_type": "code",
      "source": [
        "optimizer = torch.optim.Adam(itertools.chain(net.parameters(), embed.parameters()), lr=0.01)\n",
        "all_logits = []\n",
        "for epoch in range(50):\n",
        "    logits = net(G, inputs)\n",
        "    # we save the logits for visualization later\n",
        "    all_logits.append(logits.detach())\n",
        "    logp = F.log_softmax(logits, 1)\n",
        "    # we only compute loss for labeled nodes\n",
        "    loss = F.nll_loss(logp[labeled_nodes], labels)\n",
        "\n",
        "    optimizer.zero_grad()\n",
        "    loss.backward()\n",
        "    optimizer.step()\n",
        "\n",
        "    print('Epoch %d | Loss: %.4f' % (epoch, loss.item()))"
      ],
      "metadata": {
        "colab": {
          "base_uri": "https://localhost:8080/"
        },
        "id": "_ZOaL9a6qkny",
        "outputId": "010c6325-3798-49fd-c06c-4a48c18a12b1"
      },
      "execution_count": 25,
      "outputs": [
        {
          "output_type": "stream",
          "name": "stderr",
          "text": [
            "/usr/local/lib/python3.7/dist-packages/torch/autocast_mode.py:141: UserWarning: User provided device_type of 'cuda', but CUDA is not available. Disabling\n",
            "  warnings.warn('User provided device_type of \\'cuda\\', but CUDA is not available. Disabling')\n"
          ]
        },
        {
          "output_type": "stream",
          "name": "stdout",
          "text": [
            "Epoch 0 | Loss: 0.6936\n",
            "Epoch 1 | Loss: 0.6671\n",
            "Epoch 2 | Loss: 0.6431\n",
            "Epoch 3 | Loss: 0.6201\n",
            "Epoch 4 | Loss: 0.5986\n",
            "Epoch 5 | Loss: 0.5779\n",
            "Epoch 6 | Loss: 0.5579\n",
            "Epoch 7 | Loss: 0.5399\n",
            "Epoch 8 | Loss: 0.5245\n",
            "Epoch 9 | Loss: 0.5088\n",
            "Epoch 10 | Loss: 0.4923\n",
            "Epoch 11 | Loss: 0.4753\n",
            "Epoch 12 | Loss: 0.4578\n",
            "Epoch 13 | Loss: 0.4401\n",
            "Epoch 14 | Loss: 0.4222\n",
            "Epoch 15 | Loss: 0.4037\n",
            "Epoch 16 | Loss: 0.3838\n",
            "Epoch 17 | Loss: 0.3603\n",
            "Epoch 18 | Loss: 0.3367\n",
            "Epoch 19 | Loss: 0.3127\n",
            "Epoch 20 | Loss: 0.2882\n",
            "Epoch 21 | Loss: 0.2641\n",
            "Epoch 22 | Loss: 0.2401\n",
            "Epoch 23 | Loss: 0.2167\n",
            "Epoch 24 | Loss: 0.1944\n",
            "Epoch 25 | Loss: 0.1734\n",
            "Epoch 26 | Loss: 0.1533\n",
            "Epoch 27 | Loss: 0.1348\n",
            "Epoch 28 | Loss: 0.1180\n",
            "Epoch 29 | Loss: 0.1028\n",
            "Epoch 30 | Loss: 0.0887\n",
            "Epoch 31 | Loss: 0.0758\n",
            "Epoch 32 | Loss: 0.0645\n",
            "Epoch 33 | Loss: 0.0548\n",
            "Epoch 34 | Loss: 0.0465\n",
            "Epoch 35 | Loss: 0.0395\n",
            "Epoch 36 | Loss: 0.0336\n",
            "Epoch 37 | Loss: 0.0286\n",
            "Epoch 38 | Loss: 0.0244\n",
            "Epoch 39 | Loss: 0.0209\n",
            "Epoch 40 | Loss: 0.0179\n",
            "Epoch 41 | Loss: 0.0154\n",
            "Epoch 42 | Loss: 0.0133\n",
            "Epoch 43 | Loss: 0.0114\n",
            "Epoch 44 | Loss: 0.0098\n",
            "Epoch 45 | Loss: 0.0084\n",
            "Epoch 46 | Loss: 0.0073\n",
            "Epoch 47 | Loss: 0.0064\n",
            "Epoch 48 | Loss: 0.0056\n",
            "Epoch 49 | Loss: 0.0049\n"
          ]
        }
      ]
    },
    {
      "cell_type": "code",
      "source": [
        "import matplotlib.animation as animation\n",
        "import matplotlib.pyplot as plt"
      ],
      "metadata": {
        "id": "eJo8-5cCqpIY"
      },
      "execution_count": 26,
      "outputs": []
    },
    {
      "cell_type": "code",
      "source": [
        "def draw(i):\n",
        "    cls1color = '#00FFFF'\n",
        "    cls2color = '#FF00FF'\n",
        "    pos = {}\n",
        "    colors = []\n",
        "    for v in range(34):\n",
        "        pos[v] = all_logits[i][v].numpy()\n",
        "        cls = pos[v].argmax()\n",
        "        colors.append(cls1color if cls else cls2color)\n",
        "    ax.cla()\n",
        "    ax.axis('off')\n",
        "    ax.set_title('Epoch: %d' % i)\n",
        "    nx.draw_networkx(nx_G.to_undirected(), pos, node_color=colors,\n",
        "            with_labels=True, node_size=300, ax=ax)\n",
        "\n",
        "fig = plt.figure(dpi=150)\n",
        "fig.clf()\n",
        "ax = fig.subplots()\n",
        "draw(0)  # draw the prediction of the first epoch\n",
        "plt.close()"
      ],
      "metadata": {
        "id": "4eoOZNL0qrA3"
      },
      "execution_count": 27,
      "outputs": []
    },
    {
      "cell_type": "code",
      "source": [
        "ani = animation.FuncAnimation(fig, draw, frames=len(all_logits), interval=200)\n",
        "gif_writer = animation.PillowWriter(fps=60)\n",
        "ani.save('Animation.gif', writer=gif_writer)"
      ],
      "metadata": {
        "id": "Y0Yf3nc8qtrA"
      },
      "execution_count": 32,
      "outputs": []
    }
  ]
}