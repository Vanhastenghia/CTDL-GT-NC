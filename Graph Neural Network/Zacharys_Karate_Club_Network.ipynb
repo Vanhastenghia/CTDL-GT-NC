{
  "nbformat": 4,
  "nbformat_minor": 0,
  "metadata": {
    "colab": {
      "name": "Zachary’s_Karate_Club_Network.ipynb",
      "provenance": [],
      "collapsed_sections": []
    },
    "kernelspec": {
      "name": "python3",
      "display_name": "Python 3"
    },
    "language_info": {
      "name": "python"
    },
    "accelerator": "GPU"
  },
  "cells": [
    {
      "cell_type": "code",
      "source": [
        "import torch\n",
        "\n",
        "def format_pytorch_version(version):\n",
        "  return version.split('+')[0]\n",
        "\n",
        "TORCH_version = torch.__version__\n",
        "TORCH = format_pytorch_version(TORCH_version)\n",
        "\n",
        "def format_cuda_version(version):\n",
        "  return 'cu' + version.replace('.', '')\n",
        "\n",
        "CUDA_version = torch.version.cuda\n",
        "CUDA = format_cuda_version(CUDA_version)\n",
        "\n",
        "!pip install torch-scatter     -f https://pytorch-geometric.com/whl/torch-{TORCH}+{CUDA}.html\n",
        "!pip install torch-sparse      -f https://pytorch-geometric.com/whl/torch-{TORCH}+{CUDA}.html\n",
        "!pip install torch-cluster     -f https://pytorch-geometric.com/whl/torch-{TORCH}+{CUDA}.html\n",
        "!pip install torch-spline-conv -f https://pytorch-geometric.com/whl/torch-{TORCH}+{CUDA}.html\n",
        "!pip install torch-geometric "
      ],
      "metadata": {
        "colab": {
          "base_uri": "https://localhost:8080/"
        },
        "id": "vTsdfkDsj17q",
        "outputId": "9a653589-05e1-4866-ebaf-39462730d47b"
      },
      "execution_count": 1,
      "outputs": [
        {
          "output_type": "stream",
          "name": "stdout",
          "text": [
            "Looking in links: https://pytorch-geometric.com/whl/torch-1.10.0+cu111.html\n",
            "Collecting torch-scatter\n",
            "  Downloading https://data.pyg.org/whl/torch-1.10.0%2Bcu113/torch_scatter-2.0.9-cp37-cp37m-linux_x86_64.whl (7.9 MB)\n",
            "\u001b[K     |████████████████████████████████| 7.9 MB 5.3 MB/s \n",
            "\u001b[?25hInstalling collected packages: torch-scatter\n",
            "Successfully installed torch-scatter-2.0.9\n",
            "Looking in links: https://pytorch-geometric.com/whl/torch-1.10.0+cu111.html\n",
            "Collecting torch-sparse\n",
            "  Downloading https://data.pyg.org/whl/torch-1.10.0%2Bcu113/torch_sparse-0.6.13-cp37-cp37m-linux_x86_64.whl (3.5 MB)\n",
            "\u001b[K     |████████████████████████████████| 3.5 MB 5.3 MB/s \n",
            "\u001b[?25hRequirement already satisfied: scipy in /usr/local/lib/python3.7/dist-packages (from torch-sparse) (1.4.1)\n",
            "Requirement already satisfied: numpy>=1.13.3 in /usr/local/lib/python3.7/dist-packages (from scipy->torch-sparse) (1.21.5)\n",
            "Installing collected packages: torch-sparse\n",
            "Successfully installed torch-sparse-0.6.13\n",
            "Looking in links: https://pytorch-geometric.com/whl/torch-1.10.0+cu111.html\n",
            "Collecting torch-cluster\n",
            "  Downloading https://data.pyg.org/whl/torch-1.10.0%2Bcu113/torch_cluster-1.6.0-cp37-cp37m-linux_x86_64.whl (2.5 MB)\n",
            "\u001b[K     |████████████████████████████████| 2.5 MB 5.1 MB/s \n",
            "\u001b[?25hInstalling collected packages: torch-cluster\n",
            "Successfully installed torch-cluster-1.6.0\n",
            "Looking in links: https://pytorch-geometric.com/whl/torch-1.10.0+cu111.html\n",
            "Collecting torch-spline-conv\n",
            "  Downloading https://data.pyg.org/whl/torch-1.10.0%2Bcu113/torch_spline_conv-1.2.1-cp37-cp37m-linux_x86_64.whl (750 kB)\n",
            "\u001b[K     |████████████████████████████████| 750 kB 5.3 MB/s \n",
            "\u001b[?25hInstalling collected packages: torch-spline-conv\n",
            "Successfully installed torch-spline-conv-1.2.1\n",
            "Collecting torch-geometric\n",
            "  Downloading torch_geometric-2.0.4.tar.gz (407 kB)\n",
            "\u001b[K     |████████████████████████████████| 407 kB 4.8 MB/s \n",
            "\u001b[?25hRequirement already satisfied: tqdm in /usr/local/lib/python3.7/dist-packages (from torch-geometric) (4.63.0)\n",
            "Requirement already satisfied: numpy in /usr/local/lib/python3.7/dist-packages (from torch-geometric) (1.21.5)\n",
            "Requirement already satisfied: scipy in /usr/local/lib/python3.7/dist-packages (from torch-geometric) (1.4.1)\n",
            "Requirement already satisfied: pandas in /usr/local/lib/python3.7/dist-packages (from torch-geometric) (1.3.5)\n",
            "Requirement already satisfied: jinja2 in /usr/local/lib/python3.7/dist-packages (from torch-geometric) (2.11.3)\n",
            "Requirement already satisfied: requests in /usr/local/lib/python3.7/dist-packages (from torch-geometric) (2.23.0)\n",
            "Requirement already satisfied: pyparsing in /usr/local/lib/python3.7/dist-packages (from torch-geometric) (3.0.7)\n",
            "Requirement already satisfied: scikit-learn in /usr/local/lib/python3.7/dist-packages (from torch-geometric) (1.0.2)\n",
            "Requirement already satisfied: MarkupSafe>=0.23 in /usr/local/lib/python3.7/dist-packages (from jinja2->torch-geometric) (2.0.1)\n",
            "Requirement already satisfied: pytz>=2017.3 in /usr/local/lib/python3.7/dist-packages (from pandas->torch-geometric) (2018.9)\n",
            "Requirement already satisfied: python-dateutil>=2.7.3 in /usr/local/lib/python3.7/dist-packages (from pandas->torch-geometric) (2.8.2)\n",
            "Requirement already satisfied: six>=1.5 in /usr/local/lib/python3.7/dist-packages (from python-dateutil>=2.7.3->pandas->torch-geometric) (1.15.0)\n",
            "Requirement already satisfied: certifi>=2017.4.17 in /usr/local/lib/python3.7/dist-packages (from requests->torch-geometric) (2021.10.8)\n",
            "Requirement already satisfied: chardet<4,>=3.0.2 in /usr/local/lib/python3.7/dist-packages (from requests->torch-geometric) (3.0.4)\n",
            "Requirement already satisfied: idna<3,>=2.5 in /usr/local/lib/python3.7/dist-packages (from requests->torch-geometric) (2.10)\n",
            "Requirement already satisfied: urllib3!=1.25.0,!=1.25.1,<1.26,>=1.21.1 in /usr/local/lib/python3.7/dist-packages (from requests->torch-geometric) (1.24.3)\n",
            "Requirement already satisfied: threadpoolctl>=2.0.0 in /usr/local/lib/python3.7/dist-packages (from scikit-learn->torch-geometric) (3.1.0)\n",
            "Requirement already satisfied: joblib>=0.11 in /usr/local/lib/python3.7/dist-packages (from scikit-learn->torch-geometric) (1.1.0)\n",
            "Building wheels for collected packages: torch-geometric\n",
            "  Building wheel for torch-geometric (setup.py) ... \u001b[?25l\u001b[?25hdone\n",
            "  Created wheel for torch-geometric: filename=torch_geometric-2.0.4-py3-none-any.whl size=616603 sha256=26ca56bd30d15d1e62f3cbf6c0109e22508726d31a7b270fead18020d29a0b3a\n",
            "  Stored in directory: /root/.cache/pip/wheels/18/a6/a4/ca18c3051fcead866fe7b85700ee2240d883562a1bc70ce421\n",
            "Successfully built torch-geometric\n",
            "Installing collected packages: torch-geometric\n",
            "Successfully installed torch-geometric-2.0.4\n"
          ]
        }
      ]
    },
    {
      "cell_type": "code",
      "execution_count": 2,
      "metadata": {
        "id": "Oxh9VdVei7_B"
      },
      "outputs": [],
      "source": [
        "from torch_geometric.datasets import KarateClub"
      ]
    },
    {
      "cell_type": "code",
      "source": [
        "dataset = KarateClub()\n",
        "print(\"Dataset:\", dataset)\n",
        "print(\"# Graphs:\", len(dataset))\n",
        "print(\"# Features:\", dataset.num_features)\n",
        "print(\"# Classes:\", dataset.num_classes)"
      ],
      "metadata": {
        "colab": {
          "base_uri": "https://localhost:8080/"
        },
        "id": "m7qwdIAZnFZd",
        "outputId": "c4ba17f7-dbf6-4006-992c-dc4f13ba4721"
      },
      "execution_count": 3,
      "outputs": [
        {
          "output_type": "stream",
          "name": "stdout",
          "text": [
            "Dataset: KarateClub()\n",
            "# Graphs: 1\n",
            "# Features: 34\n",
            "# Classes: 4\n"
          ]
        }
      ]
    },
    {
      "cell_type": "code",
      "source": [
        "data = dataset[0]\n",
        "print(data)\n",
        "print(\"Training nodes:\", data.train_mask.sum().item())\n",
        "print(\"Is directed:\", data.is_directed())"
      ],
      "metadata": {
        "colab": {
          "base_uri": "https://localhost:8080/"
        },
        "id": "5lDWPisTnL7t",
        "outputId": "84bfb995-112c-4315-c0de-99c03b7b88f4"
      },
      "execution_count": 4,
      "outputs": [
        {
          "output_type": "stream",
          "name": "stdout",
          "text": [
            "Data(x=[34, 34], edge_index=[2, 156], y=[34], train_mask=[34])\n",
            "Training nodes: 4\n",
            "Is directed: False\n"
          ]
        }
      ]
    },
    {
      "cell_type": "code",
      "source": [
        "import networkx as nx"
      ],
      "metadata": {
        "id": "RXTwdHC9rYT-"
      },
      "execution_count": 5,
      "outputs": []
    },
    {
      "cell_type": "code",
      "source": [
        "from torch_geometric.utils import to_networkx\n",
        "G = to_networkx(data, to_undirected=True)\n",
        "nx.draw(G, node_color=data.y, node_size=150)"
      ],
      "metadata": {
        "colab": {
          "base_uri": "https://localhost:8080/",
          "height": 319
        },
        "id": "Xl6Fto5HqOfq",
        "outputId": "95e7bfcc-0aa9-4c29-911d-2cd8fb24c6cd"
      },
      "execution_count": 6,
      "outputs": [
        {
          "output_type": "display_data",
          "data": {
            "text/plain": [
              "<Figure size 432x288 with 1 Axes>"
            ],
            "image/png": "[encoded data removed]"
          },
          "metadata": {}
        }
      ]
    },
    {
      "cell_type": "markdown",
      "source": [
        "# Semi-supervised node classification"
      ],
      "metadata": {
        "id": "wC3S8Trrs8kK"
      }
    },
    {
      "cell_type": "code",
      "source": [
        "from torch.nn import Linear\n",
        "from torch_geometric.nn import GCNConv\n",
        "import matplotlib.pyplot as plt\n",
        "import matplotlib.animation as animation"
      ],
      "metadata": {
        "id": "mqyVKQI-z8Ui"
      },
      "execution_count": 7,
      "outputs": []
    },
    {
      "cell_type": "code",
      "source": [
        "class GCN(torch.nn.Module):\n",
        "  def __init__(self):\n",
        "    super(GCN, self).__init__()\n",
        "    torch.manual_seed(42)\n",
        "    self.conv1 = GCNConv(dataset.num_features, 4)\n",
        "    self.conv2 = GCNConv(4, 4)\n",
        "    self.conv3 = GCNConv(4, 2)\n",
        "    self.classifier = Linear(2, dataset.num_classes)\n",
        "  def forward(self, x, edge_index):\n",
        "    h = self.conv1(x, edge_index)\n",
        "    h = h.tanh()\n",
        "    h = self.conv2(h, edge_index)\n",
        "    h = h.tanh()\n",
        "    h = self.conv3(h, edge_index)\n",
        "    h = h.tanh()\n",
        "    out = self.classifier(h)\n",
        "    return out, h"
      ],
      "metadata": {
        "id": "z4QQ6a4grbNW"
      },
      "execution_count": 8,
      "outputs": []
    },
    {
      "cell_type": "code",
      "source": [
        "model = GCN()\n",
        "print(model)"
      ],
      "metadata": {
        "colab": {
          "base_uri": "https://localhost:8080/"
        },
        "id": "w4pM0MV7tF4D",
        "outputId": "63bad744-4ee4-4145-8069-a3931ba28775"
      },
      "execution_count": 9,
      "outputs": [
        {
          "output_type": "stream",
          "name": "stdout",
          "text": [
            "GCN(\n",
            "  (conv1): GCNConv(34, 4)\n",
            "  (conv2): GCNConv(4, 4)\n",
            "  (conv3): GCNConv(4, 2)\n",
            "  (classifier): Linear(in_features=2, out_features=4, bias=True)\n",
            ")\n"
          ]
        }
      ]
    },
    {
      "cell_type": "code",
      "source": [
        "criterion = torch.nn.CrossEntropyLoss()\n",
        "optimizer = torch.optim.Adam(model.parameters(), lr=0.01)"
      ],
      "metadata": {
        "id": "J4YkS3MWy_KD"
      },
      "execution_count": 10,
      "outputs": []
    },
    {
      "cell_type": "code",
      "source": [
        "def train(data):\n",
        "  optimizer.zero_grad()\n",
        "  out, h = model(data.x, data.edge_index)\n",
        "  loss = criterion(out[data.train_mask], data.y[data.train_mask])\n",
        "  loss.backward()\n",
        "  optimizer.step()\n",
        "  return loss, h"
      ],
      "metadata": {
        "id": "FiUoNKimtSwt"
      },
      "execution_count": 11,
      "outputs": []
    },
    {
      "cell_type": "code",
      "source": [
        "epochs = range(1, 301)\n",
        "losses = []\n",
        "embeddings = []\n",
        "for epoch in epochs:\n",
        "  loss, h = train(data)\n",
        "  losses.append(loss)\n",
        "  embeddings.append(h)\n",
        "  print(f\"Epoch: {epoch}\\tLoss: {loss:.4f}\")"
      ],
      "metadata": {
        "colab": {
          "base_uri": "https://localhost:8080/"
        },
        "id": "JwJIRS-fy7oR",
        "outputId": "cb18f15c-4f0c-4208-c6b9-2879a60d9fc7"
      },
      "execution_count": 12,
      "outputs": [
        {
          "output_type": "stream",
          "name": "stdout",
          "text": [
            "Epoch: 1\tLoss: 1.3996\n",
            "Epoch: 2\tLoss: 1.3749\n",
            "Epoch: 3\tLoss: 1.3545\n",
            "Epoch: 4\tLoss: 1.3380\n",
            "Epoch: 5\tLoss: 1.3248\n",
            "Epoch: 6\tLoss: 1.3137\n",
            "Epoch: 7\tLoss: 1.3034\n",
            "Epoch: 8\tLoss: 1.2929\n",
            "Epoch: 9\tLoss: 1.2814\n",
            "Epoch: 10\tLoss: 1.2689\n",
            "Epoch: 11\tLoss: 1.2553\n",
            "Epoch: 12\tLoss: 1.2410\n",
            "Epoch: 13\tLoss: 1.2264\n",
            "Epoch: 14\tLoss: 1.2117\n",
            "Epoch: 15\tLoss: 1.1971\n",
            "Epoch: 16\tLoss: 1.1827\n",
            "Epoch: 17\tLoss: 1.1682\n",
            "Epoch: 18\tLoss: 1.1534\n",
            "Epoch: 19\tLoss: 1.1382\n",
            "Epoch: 20\tLoss: 1.1224\n",
            "Epoch: 21\tLoss: 1.1060\n",
            "Epoch: 22\tLoss: 1.0895\n",
            "Epoch: 23\tLoss: 1.0730\n",
            "Epoch: 24\tLoss: 1.0569\n",
            "Epoch: 25\tLoss: 1.0412\n",
            "Epoch: 26\tLoss: 1.0259\n",
            "Epoch: 27\tLoss: 1.0108\n",
            "Epoch: 28\tLoss: 0.9960\n",
            "Epoch: 29\tLoss: 0.9816\n",
            "Epoch: 30\tLoss: 0.9677\n",
            "Epoch: 31\tLoss: 0.9545\n",
            "Epoch: 32\tLoss: 0.9420\n",
            "Epoch: 33\tLoss: 0.9302\n",
            "Epoch: 34\tLoss: 0.9189\n",
            "Epoch: 35\tLoss: 0.9080\n",
            "Epoch: 36\tLoss: 0.8976\n",
            "Epoch: 37\tLoss: 0.8876\n",
            "Epoch: 38\tLoss: 0.8781\n",
            "Epoch: 39\tLoss: 0.8690\n",
            "Epoch: 40\tLoss: 0.8601\n",
            "Epoch: 41\tLoss: 0.8515\n",
            "Epoch: 42\tLoss: 0.8430\n",
            "Epoch: 43\tLoss: 0.8347\n",
            "Epoch: 44\tLoss: 0.8268\n",
            "Epoch: 45\tLoss: 0.8192\n",
            "Epoch: 46\tLoss: 0.8118\n",
            "Epoch: 47\tLoss: 0.8045\n",
            "Epoch: 48\tLoss: 0.7973\n",
            "Epoch: 49\tLoss: 0.7904\n",
            "Epoch: 50\tLoss: 0.7835\n",
            "Epoch: 51\tLoss: 0.7767\n",
            "Epoch: 52\tLoss: 0.7699\n",
            "Epoch: 53\tLoss: 0.7632\n",
            "Epoch: 54\tLoss: 0.7566\n",
            "Epoch: 55\tLoss: 0.7502\n",
            "Epoch: 56\tLoss: 0.7437\n",
            "Epoch: 57\tLoss: 0.7373\n",
            "Epoch: 58\tLoss: 0.7310\n",
            "Epoch: 59\tLoss: 0.7248\n",
            "Epoch: 60\tLoss: 0.7185\n",
            "Epoch: 61\tLoss: 0.7123\n",
            "Epoch: 62\tLoss: 0.7061\n",
            "Epoch: 63\tLoss: 0.7000\n",
            "Epoch: 64\tLoss: 0.6939\n",
            "Epoch: 65\tLoss: 0.6879\n",
            "Epoch: 66\tLoss: 0.6818\n",
            "Epoch: 67\tLoss: 0.6758\n",
            "Epoch: 68\tLoss: 0.6698\n",
            "Epoch: 69\tLoss: 0.6638\n",
            "Epoch: 70\tLoss: 0.6578\n",
            "Epoch: 71\tLoss: 0.6518\n",
            "Epoch: 72\tLoss: 0.6459\n",
            "Epoch: 73\tLoss: 0.6399\n",
            "Epoch: 74\tLoss: 0.6339\n",
            "Epoch: 75\tLoss: 0.6280\n",
            "Epoch: 76\tLoss: 0.6220\n",
            "Epoch: 77\tLoss: 0.6161\n",
            "Epoch: 78\tLoss: 0.6101\n",
            "Epoch: 79\tLoss: 0.6042\n",
            "Epoch: 80\tLoss: 0.5983\n",
            "Epoch: 81\tLoss: 0.5924\n",
            "Epoch: 82\tLoss: 0.5864\n",
            "Epoch: 83\tLoss: 0.5805\n",
            "Epoch: 84\tLoss: 0.5746\n",
            "Epoch: 85\tLoss: 0.5687\n",
            "Epoch: 86\tLoss: 0.5628\n",
            "Epoch: 87\tLoss: 0.5569\n",
            "Epoch: 88\tLoss: 0.5509\n",
            "Epoch: 89\tLoss: 0.5449\n",
            "Epoch: 90\tLoss: 0.5389\n",
            "Epoch: 91\tLoss: 0.5327\n",
            "Epoch: 92\tLoss: 0.5265\n",
            "Epoch: 93\tLoss: 0.5201\n",
            "Epoch: 94\tLoss: 0.5136\n",
            "Epoch: 95\tLoss: 0.5068\n",
            "Epoch: 96\tLoss: 0.4998\n",
            "Epoch: 97\tLoss: 0.4925\n",
            "Epoch: 98\tLoss: 0.4849\n",
            "Epoch: 99\tLoss: 0.4769\n",
            "Epoch: 100\tLoss: 0.4686\n",
            "Epoch: 101\tLoss: 0.4598\n",
            "Epoch: 102\tLoss: 0.4507\n",
            "Epoch: 103\tLoss: 0.4413\n",
            "Epoch: 104\tLoss: 0.4315\n",
            "Epoch: 105\tLoss: 0.4216\n",
            "Epoch: 106\tLoss: 0.4114\n",
            "Epoch: 107\tLoss: 0.4011\n",
            "Epoch: 108\tLoss: 0.3907\n",
            "Epoch: 109\tLoss: 0.3803\n",
            "Epoch: 110\tLoss: 0.3699\n",
            "Epoch: 111\tLoss: 0.3596\n",
            "Epoch: 112\tLoss: 0.3493\n",
            "Epoch: 113\tLoss: 0.3392\n",
            "Epoch: 114\tLoss: 0.3293\n",
            "Epoch: 115\tLoss: 0.3196\n",
            "Epoch: 116\tLoss: 0.3102\n",
            "Epoch: 117\tLoss: 0.3010\n",
            "Epoch: 118\tLoss: 0.2922\n",
            "Epoch: 119\tLoss: 0.2836\n",
            "Epoch: 120\tLoss: 0.2754\n",
            "Epoch: 121\tLoss: 0.2674\n",
            "Epoch: 122\tLoss: 0.2598\n",
            "Epoch: 123\tLoss: 0.2525\n",
            "Epoch: 124\tLoss: 0.2454\n",
            "Epoch: 125\tLoss: 0.2387\n",
            "Epoch: 126\tLoss: 0.2322\n",
            "Epoch: 127\tLoss: 0.2260\n",
            "Epoch: 128\tLoss: 0.2201\n",
            "Epoch: 129\tLoss: 0.2144\n",
            "Epoch: 130\tLoss: 0.2089\n",
            "Epoch: 131\tLoss: 0.2037\n",
            "Epoch: 132\tLoss: 0.1986\n",
            "Epoch: 133\tLoss: 0.1938\n",
            "Epoch: 134\tLoss: 0.1892\n",
            "Epoch: 135\tLoss: 0.1848\n",
            "Epoch: 136\tLoss: 0.1805\n",
            "Epoch: 137\tLoss: 0.1764\n",
            "Epoch: 138\tLoss: 0.1725\n",
            "Epoch: 139\tLoss: 0.1687\n",
            "Epoch: 140\tLoss: 0.1651\n",
            "Epoch: 141\tLoss: 0.1617\n",
            "Epoch: 142\tLoss: 0.1583\n",
            "Epoch: 143\tLoss: 0.1551\n",
            "Epoch: 144\tLoss: 0.1520\n",
            "Epoch: 145\tLoss: 0.1491\n",
            "Epoch: 146\tLoss: 0.1462\n",
            "Epoch: 147\tLoss: 0.1435\n",
            "Epoch: 148\tLoss: 0.1408\n",
            "Epoch: 149\tLoss: 0.1383\n",
            "Epoch: 150\tLoss: 0.1359\n",
            "Epoch: 151\tLoss: 0.1335\n",
            "Epoch: 152\tLoss: 0.1312\n",
            "Epoch: 153\tLoss: 0.1290\n",
            "Epoch: 154\tLoss: 0.1269\n",
            "Epoch: 155\tLoss: 0.1249\n",
            "Epoch: 156\tLoss: 0.1229\n",
            "Epoch: 157\tLoss: 0.1210\n",
            "Epoch: 158\tLoss: 0.1191\n",
            "Epoch: 159\tLoss: 0.1173\n",
            "Epoch: 160\tLoss: 0.1156\n",
            "Epoch: 161\tLoss: 0.1139\n",
            "Epoch: 162\tLoss: 0.1123\n",
            "Epoch: 163\tLoss: 0.1107\n",
            "Epoch: 164\tLoss: 0.1092\n",
            "Epoch: 165\tLoss: 0.1077\n",
            "Epoch: 166\tLoss: 0.1063\n",
            "Epoch: 167\tLoss: 0.1049\n",
            "Epoch: 168\tLoss: 0.1035\n",
            "Epoch: 169\tLoss: 0.1022\n",
            "Epoch: 170\tLoss: 0.1009\n",
            "Epoch: 171\tLoss: 0.0997\n",
            "Epoch: 172\tLoss: 0.0984\n",
            "Epoch: 173\tLoss: 0.0973\n",
            "Epoch: 174\tLoss: 0.0961\n",
            "Epoch: 175\tLoss: 0.0950\n",
            "Epoch: 176\tLoss: 0.0939\n",
            "Epoch: 177\tLoss: 0.0928\n",
            "Epoch: 178\tLoss: 0.0918\n",
            "Epoch: 179\tLoss: 0.0907\n",
            "Epoch: 180\tLoss: 0.0897\n",
            "Epoch: 181\tLoss: 0.0888\n",
            "Epoch: 182\tLoss: 0.0878\n",
            "Epoch: 183\tLoss: 0.0869\n",
            "Epoch: 184\tLoss: 0.0860\n",
            "Epoch: 185\tLoss: 0.0851\n",
            "Epoch: 186\tLoss: 0.0842\n",
            "Epoch: 187\tLoss: 0.0833\n",
            "Epoch: 188\tLoss: 0.0825\n",
            "Epoch: 189\tLoss: 0.0817\n",
            "Epoch: 190\tLoss: 0.0809\n",
            "Epoch: 191\tLoss: 0.0801\n",
            "Epoch: 192\tLoss: 0.0793\n",
            "Epoch: 193\tLoss: 0.0786\n",
            "Epoch: 194\tLoss: 0.0778\n",
            "Epoch: 195\tLoss: 0.0771\n",
            "Epoch: 196\tLoss: 0.0764\n",
            "Epoch: 197\tLoss: 0.0757\n",
            "Epoch: 198\tLoss: 0.0750\n",
            "Epoch: 199\tLoss: 0.0743\n",
            "Epoch: 200\tLoss: 0.0737\n",
            "Epoch: 201\tLoss: 0.0730\n",
            "Epoch: 202\tLoss: 0.0724\n",
            "Epoch: 203\tLoss: 0.0717\n",
            "Epoch: 204\tLoss: 0.0711\n",
            "Epoch: 205\tLoss: 0.0705\n",
            "Epoch: 206\tLoss: 0.0699\n",
            "Epoch: 207\tLoss: 0.0693\n",
            "Epoch: 208\tLoss: 0.0688\n",
            "Epoch: 209\tLoss: 0.0682\n",
            "Epoch: 210\tLoss: 0.0676\n",
            "Epoch: 211\tLoss: 0.0671\n",
            "Epoch: 212\tLoss: 0.0665\n",
            "Epoch: 213\tLoss: 0.0660\n",
            "Epoch: 214\tLoss: 0.0655\n",
            "Epoch: 215\tLoss: 0.0650\n",
            "Epoch: 216\tLoss: 0.0644\n",
            "Epoch: 217\tLoss: 0.0639\n",
            "Epoch: 218\tLoss: 0.0634\n",
            "Epoch: 219\tLoss: 0.0630\n",
            "Epoch: 220\tLoss: 0.0625\n",
            "Epoch: 221\tLoss: 0.0620\n",
            "Epoch: 222\tLoss: 0.0615\n",
            "Epoch: 223\tLoss: 0.0611\n",
            "Epoch: 224\tLoss: 0.0606\n",
            "Epoch: 225\tLoss: 0.0602\n",
            "Epoch: 226\tLoss: 0.0597\n",
            "Epoch: 227\tLoss: 0.0593\n",
            "Epoch: 228\tLoss: 0.0589\n",
            "Epoch: 229\tLoss: 0.0585\n",
            "Epoch: 230\tLoss: 0.0580\n",
            "Epoch: 231\tLoss: 0.0576\n",
            "Epoch: 232\tLoss: 0.0572\n",
            "Epoch: 233\tLoss: 0.0568\n",
            "Epoch: 234\tLoss: 0.0564\n",
            "Epoch: 235\tLoss: 0.0560\n",
            "Epoch: 236\tLoss: 0.0556\n",
            "Epoch: 237\tLoss: 0.0553\n",
            "Epoch: 238\tLoss: 0.0549\n",
            "Epoch: 239\tLoss: 0.0545\n",
            "Epoch: 240\tLoss: 0.0541\n",
            "Epoch: 241\tLoss: 0.0538\n",
            "Epoch: 242\tLoss: 0.0534\n",
            "Epoch: 243\tLoss: 0.0531\n",
            "Epoch: 244\tLoss: 0.0527\n",
            "Epoch: 245\tLoss: 0.0524\n",
            "Epoch: 246\tLoss: 0.0520\n",
            "Epoch: 247\tLoss: 0.0517\n",
            "Epoch: 248\tLoss: 0.0514\n",
            "Epoch: 249\tLoss: 0.0510\n",
            "Epoch: 250\tLoss: 0.0507\n",
            "Epoch: 251\tLoss: 0.0504\n",
            "Epoch: 252\tLoss: 0.0501\n",
            "Epoch: 253\tLoss: 0.0497\n",
            "Epoch: 254\tLoss: 0.0494\n",
            "Epoch: 255\tLoss: 0.0491\n",
            "Epoch: 256\tLoss: 0.0488\n",
            "Epoch: 257\tLoss: 0.0485\n",
            "Epoch: 258\tLoss: 0.0482\n",
            "Epoch: 259\tLoss: 0.0479\n",
            "Epoch: 260\tLoss: 0.0476\n",
            "Epoch: 261\tLoss: 0.0474\n",
            "Epoch: 262\tLoss: 0.0471\n",
            "Epoch: 263\tLoss: 0.0468\n",
            "Epoch: 264\tLoss: 0.0465\n",
            "Epoch: 265\tLoss: 0.0462\n",
            "Epoch: 266\tLoss: 0.0460\n",
            "Epoch: 267\tLoss: 0.0457\n",
            "Epoch: 268\tLoss: 0.0454\n",
            "Epoch: 269\tLoss: 0.0452\n",
            "Epoch: 270\tLoss: 0.0449\n",
            "Epoch: 271\tLoss: 0.0446\n",
            "Epoch: 272\tLoss: 0.0444\n",
            "Epoch: 273\tLoss: 0.0441\n",
            "Epoch: 274\tLoss: 0.0439\n",
            "Epoch: 275\tLoss: 0.0436\n",
            "Epoch: 276\tLoss: 0.0434\n",
            "Epoch: 277\tLoss: 0.0431\n",
            "Epoch: 278\tLoss: 0.0429\n",
            "Epoch: 279\tLoss: 0.0427\n",
            "Epoch: 280\tLoss: 0.0424\n",
            "Epoch: 281\tLoss: 0.0422\n",
            "Epoch: 282\tLoss: 0.0419\n",
            "Epoch: 283\tLoss: 0.0417\n",
            "Epoch: 284\tLoss: 0.0415\n",
            "Epoch: 285\tLoss: 0.0413\n",
            "Epoch: 286\tLoss: 0.0410\n",
            "Epoch: 287\tLoss: 0.0408\n",
            "Epoch: 288\tLoss: 0.0406\n",
            "Epoch: 289\tLoss: 0.0404\n",
            "Epoch: 290\tLoss: 0.0402\n",
            "Epoch: 291\tLoss: 0.0400\n",
            "Epoch: 292\tLoss: 0.0397\n",
            "Epoch: 293\tLoss: 0.0395\n",
            "Epoch: 294\tLoss: 0.0393\n",
            "Epoch: 295\tLoss: 0.0391\n",
            "Epoch: 296\tLoss: 0.0389\n",
            "Epoch: 297\tLoss: 0.0387\n",
            "Epoch: 298\tLoss: 0.0385\n",
            "Epoch: 299\tLoss: 0.0383\n",
            "Epoch: 300\tLoss: 0.0381\n"
          ]
        }
      ]
    },
    {
      "cell_type": "code",
      "source": [
        "def animate(i):\n",
        "  ax.clear()\n",
        "  h = embeddings[i]\n",
        "  h = h.detach().numpy()\n",
        "  ax.scatter(h[:, 0], h[:, 1], c=data.y, s=100)\n",
        "  ax.set_title(f'Epoch: {epochs[i]}, Loss: {losses[i].item():.4f}')\n",
        "  ax.set_xlim([-2, 2])\n",
        "  ax.set_ylim([-2, 2])"
      ],
      "metadata": {
        "id": "2RG117ST3UMF"
      },
      "execution_count": 15,
      "outputs": []
    },
    {
      "cell_type": "code",
      "source": [
        "fig = plt.figure(figsize=(6, 6))\n",
        "ax = plt.axes()\n",
        "anim = animation.FuncAnimation(fig, animate, frames=len(epochs))\n",
        "gif_writer = animation.PillowWriter(fps=20)\n",
        "anim.save('Animation.gif', writer=gif_writer)"
      ],
      "metadata": {
        "colab": {
          "base_uri": "https://localhost:8080/",
          "height": 390
        },
        "id": "vtWsJZEc9LCK",
        "outputId": "c6166267-7e37-4071-8fe7-d14fa8048a91"
      },
      "execution_count": 16,
      "outputs": [
        {
          "output_type": "display_data",
          "data": {
            "text/plain": [
              "<Figure size 432x432 with 1 Axes>"
            ],
            "image/png": "[encoded data removed]"
          },
          "metadata": {
            "needs_background": "light"
          }
        }
      ]
    }
  ]
}